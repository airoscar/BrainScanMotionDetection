{
 "cells": [
  {
   "cell_type": "code",
   "execution_count": 19,
   "metadata": {},
   "outputs": [],
   "source": [
    "import os\n",
    "import numpy as np\n",
    "import nibabel as nib\n",
    "import matplotlib.pyplot as plt"
   ]
  },
  {
   "cell_type": "code",
   "execution_count": 20,
   "metadata": {},
   "outputs": [],
   "source": [
    "root_path = '../Calgary_PS_DTI_Dataset/'"
   ]
  },
  {
   "cell_type": "markdown",
   "metadata": {},
   "source": [
    "Loop through all directories and looking for .nii files"
   ]
  },
  {
   "cell_type": "code",
   "execution_count": 3,
   "metadata": {
    "scrolled": true
   },
   "outputs": [],
   "source": [
    "def index_volumes():\n",
    "    \"\"\"Scan the root_path and its sub-dirs, return a list of .nii files found.\"\"\"\n",
    "    nii_list = []\n",
    "    for dirpaths, dirs, files in os.walk(root_path):\n",
    "        for file in files:\n",
    "            if file.endswith('.nii'):\n",
    "                file_path = os.path.join(dirpaths, file)\n",
    "#                 export_name = file_path.replace(root_path,'').replace('\\\\','_')\n",
    "                nii_list.append(file_path)\n",
    "#                 print(file_path)\n",
    "    return nii_list"
   ]
  },
  {
   "cell_type": "code",
   "execution_count": 4,
   "metadata": {},
   "outputs": [],
   "source": [
    "def show_slices(slices):\n",
    "    \"\"\"Display a list of image slices\"\"\"\n",
    "    fig, axes = plt.subplots(1, len(slices))\n",
    "    for i, slice in enumerate(slices):\n",
    "        axes[i].imshow(slice.T, cmap='gray', origin='lower')"
   ]
  },
  {
   "cell_type": "code",
   "execution_count": 5,
   "metadata": {},
   "outputs": [],
   "source": [
    "def export_images(file_path):\n",
    "    \"\"\"Given a path to .nii file, output all slices in height-direction as numpy array.\"\"\"\n",
    "    nii_img = nib.load(file_path)\n",
    "    width, depth, height, volume = nii_img.shape\n",
    "    volumes = list(range(0,volume))\n",
    "    for i in volumes:\n",
    "        vol = nii_img.dataobj[...,i]\n",
    "        for j in list(range(0,height)):\n",
    "            slice_h = vol[:,:,j]\n",
    "            np.save(os.path.join(export_path, export_name, '_vol',i,'_slice',j) ,slice_h)"
   ]
  },
  {
   "cell_type": "code",
   "execution_count": 6,
   "metadata": {},
   "outputs": [],
   "source": [
    "def show_slice(file, vol_num, height):\n",
    "    img = nib.load(file)\n",
    "    vol = img.dataobj[..., vol_num]\n",
    "    sli = vol[:,:,height]\n",
    "    plt.imshow(sli, cmap='gray', origin='lower', aspect = 1)"
   ]
  }
 ],
 "metadata": {
  "kernelspec": {
   "display_name": "Python 3",
   "language": "python",
   "name": "python3"
  },
  "language_info": {
   "codemirror_mode": {
    "name": "ipython",
    "version": 3
   },
   "file_extension": ".py",
   "mimetype": "text/x-python",
   "name": "python",
   "nbconvert_exporter": "python",
   "pygments_lexer": "ipython3",
   "version": "3.7.3"
  }
 },
 "nbformat": 4,
 "nbformat_minor": 2
}
