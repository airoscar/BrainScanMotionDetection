{
 "cells": [
  {
   "cell_type": "markdown",
   "metadata": {},
   "source": [
    "## DataGenerator.py"
   ]
  },
  {
   "cell_type": "code",
   "execution_count": null,
   "metadata": {},
   "outputs": [],
   "source": [
    "import numpy as np\n",
    "import nibabel as nib\n",
    "import keras\n",
    "import cv2\n",
    "\n",
    "class DataGenerator(keras.utils.Sequence):\n",
    "    \"\"\"Generates data for Keras to process.nii files\"\"\"\n",
    "    def __init__(self, list_IDs, labels, max_brightness, batch_size=64, dim=(128,64,1), n_channels=1,\n",
    "                 n_classes=10, shuffle=True):\n",
    "        \"\"\"- list_IDs should be a list of tupples, each tupples consists of (file_path, vol_num, slice_type, slice_num).\n",
    "           - labels should be a dictionary, the key is a tupple of (file_path, vol_num, slice_type, slice_num), and value\n",
    "            is the label.\n",
    "           - max_brightness should be a dictionary, the key is tuple of (file_path and vol_num), value is max voxel brightness of the volume, \n",
    "           used for normalizaing image data in the volume.\n",
    "        \"\"\"\n",
    "        \n",
    "        'Initialization'\n",
    "        self.dim = dim\n",
    "        self.batch_size = batch_size\n",
    "        self.labels = labels\n",
    "        self.list_IDs = list_IDs\n",
    "        self.max_vox_val = max_brightness\n",
    "        self.n_channels = n_channels\n",
    "        self.n_classes = n_classes\n",
    "        self.shuffle = shuffle\n",
    "        self.on_epoch_end()\n",
    "\n",
    "    def __len__(self):\n",
    "        'Denotes the number of batches per epoch'\n",
    "        return int(np.floor(len(self.list_IDs) / self.batch_size))\n",
    "\n",
    "    def __getitem__(self, index):\n",
    "        'Generate one batch of data'\n",
    "        # Generate indexes of the batch\n",
    "        indexes = self.indexes[index*self.batch_size:(index+1)*self.batch_size]\n",
    "\n",
    "        # Find list of IDs\n",
    "        list_IDs_temp = [self.list_IDs[k] for k in indexes]\n",
    "\n",
    "        # Generate data\n",
    "        X, y = self.__data_generation(list_IDs_temp)\n",
    "\n",
    "        return X, y\n",
    "\n",
    "    def on_epoch_end(self):\n",
    "        'Updates indexes after each epoch'\n",
    "        self.indexes = np.arange(len(self.list_IDs))\n",
    "        if self.shuffle == True:\n",
    "            np.random.shuffle(self.indexes)\n",
    "            \n",
    "    def __normalize(self, img, file_path, vol_num):\n",
    "        \"\"\"Normalize slices in a volume by the vox brightness value provided in self.max_vox_val\"\"\"\n",
    "        maxVal = self.max_vox_val.get((file_path,vol_num), np.amax(img))\n",
    "        return img/maxVal\n",
    "    \n",
    "    def __resize(self, img):\n",
    "        \"\"\"Ensure consistent size of each slice of data\"\"\"\n",
    "        return cv2.resize(img, (self.dim[0],self.dim[1]), interpolation=cv2.INTER_NEAREST)\n",
    "    \n",
    "    def __load_nii_slice(self, file_path, vol_num, slice_type, slice_num):\n",
    "        \"\"\"Load a single slice from nii file\"\"\"\n",
    "        nii_file = nib.load(file_path)\n",
    "        \n",
    "        if slice_type == 0:  # Axial slice\n",
    "            img = nii_file.dataobj[:,:,slice_num,vol_num]\n",
    "        elif slice_type == 1:  # Sagittal slice\n",
    "            img = nii_file.dataobj[slice_num,:,:,vol_num]\n",
    "        elif slice_type == 2:  # Coronal slice\n",
    "            img = nii_file.dataobj[:,slice_num,:,vol_num]\n",
    "        \n",
    "        normalized = self.__normalize(img, file_path, vol_num)\n",
    "        \n",
    "        return self.__resize(normalized)\n",
    "    \n",
    "    def __get_slice_label(self, file_path, vol_num, slice_type, slice_num):\n",
    "        \"\"\"Look for slice label given file_path, volume, slice_type, and slice_num,\n",
    "        returns a default_label value if the label not found in the dictionary\"\"\"\n",
    "        default_label = 0\n",
    "        return self.labels.get((file_path, vol_num, slice_type, slice_num), default_label)\n",
    "    \n",
    "    def __data_generation(self, list_IDs_temp):\n",
    "        'Generates data containing batch_size samples' # X : (n_samples, *dim, n_channels)\n",
    "        # Initialization\n",
    "        X = np.empty((self.batch_size, *self.dim, self.n_channels))\n",
    "        y = np.empty((self.batch_size), dtype=int)\n",
    "\n",
    "#         # Generate data for standard images\n",
    "#         for i, ID in enumerate(list_IDs_temp):\n",
    "#             # Store sample\n",
    "#             X[i,] = np.load('data/' + ID + '.npy')\n",
    "#             # Store class\n",
    "#             y[i] = self.labels[ID]\n",
    "\n",
    "        # Generate data for nii slices\n",
    "        for i, ID in enumerate(list_IDs_temp):\n",
    "            file_path, vol_num, slice_type, slice_num = ID\n",
    "            X[i,:,:,0] = self.__load_nii_slice(file_path, vol_num, slice_type, slice_num)\n",
    "            y[i] = self.__get_slice_label(file_path, vol_num, slice_type, slice_num)\n",
    "\n",
    "        return X, keras.utils.to_categorical(y, num_classes=self.n_classes)"
   ]
  },
  {
   "cell_type": "markdown",
   "metadata": {},
   "source": [
    "## LabelGenerator.py"
   ]
  },
  {
   "cell_type": "code",
   "execution_count": 37,
   "metadata": {
    "scrolled": false
   },
   "outputs": [],
   "source": [
    "import os\n",
    "import pickle\n",
    "\n",
    "class LabelGenerator:\n",
    "    \n",
    "    def __init__(self):\n",
    "        folder = \"../Calgary_PS_DTI_Dataset/\"\n",
    "        labelfname = \"Bad750Volumes.csv\"\n",
    "        sliceStart = 96\n",
    "        sliceEnd = 160\n",
    "        niiFiles = list()\n",
    "        sNames = dict()\n",
    "        \n",
    "        self.idList = list()\n",
    "        self.labels = dict()\n",
    "        self.maxVals = None\n",
    "        \n",
    "        for dirpaths, dirs, files in os.walk(folder):\n",
    "            for file in files:\n",
    "                if file.endswith('.nii'):\n",
    "                    filePath = os.path.join(dirpaths, file)\n",
    "                    niiFiles.append(filePath)\n",
    "                    sEnd = file.rfind('_')\n",
    "                    if sEnd == -1:\n",
    "                        sEnd = len(file)-4\n",
    "                    sName = file[0:sEnd]\n",
    "                    sNames[filePath] = sName\n",
    "\n",
    "        #dict of bad volumes based on scan name\n",
    "        print(\"Getting bad volumes from csv\")\n",
    "        badVols = dict()\n",
    "        with open(labelfname) as f:\n",
    "            lines = f.readlines()\n",
    "            for i in range(1, len(lines)):\n",
    "                line = lines[i].split(',')\n",
    "                vols = line[1].strip()\n",
    "                vols = vols.split(';')\n",
    "                #subtract one for 0 indexing\n",
    "                vols = [int(vol)-1 for vol in vols if vol != '']\n",
    "                sName = line[0].upper().strip().replace('-','')\n",
    "                badVols[sName] = vols\n",
    "\n",
    "        print(\"Generating slice ids and labels\")\n",
    "        #ID format: (filepath, volume, direction, slice number)\n",
    "        \n",
    "        for file in niiFiles:\n",
    "            sName = sNames[file]\n",
    "            for volNum in range(35):\n",
    "                label = 0\n",
    "                if sName in badVols:\n",
    "                    if volNum in badVols[sName]:\n",
    "                        label = 1\n",
    "                #64 slices centered around the middle assuming size 255\n",
    "                for sliceNum in range(96,160):\n",
    "                    #sagittal\n",
    "                    tempId = (file, volNum, 1, sliceNum)\n",
    "                    self.idList.append(tempId)\n",
    "                    self.labels[tempId] = label\n",
    "                    #coronal\n",
    "                    tempId = (file, volNum, 2, sliceNum)\n",
    "                    self.idList.append(tempId)\n",
    "                    self.labels[tempId] = label\n",
    "\n",
    "        print(\"Getting max values from pickle file\")\n",
    "        \n",
    "        with open (\"maxVals.pickle\", \"rb\") as f:\n",
    "            self.maxVals = pickle.load(f)\n",
    "        for file in niiFiles:\n",
    "            for vol in range(35):\n",
    "                self.maxVals[file, vol] = self.maxVals.pop((sNames[file], vol))\n",
    "        print(\"Done\")\n",
    "\n",
    "        ##use idList, labels, and maxVals for machine learning part\n",
    "    \n",
    "    def get_idList(self):\n",
    "        return self.idList\n",
    "    def get_labels(self):\n",
    "        return self.labels\n",
    "    def get_maxVals(self):\n",
    "        return self.maxVals"
   ]
  },
  {
   "cell_type": "code",
   "execution_count": 38,
   "metadata": {},
   "outputs": [
    {
     "name": "stdout",
     "output_type": "stream",
     "text": [
      "Getting bad volumes from csv\n",
      "Generating slice ids and labels\n",
      "Getting max values from pickle file\n",
      "Done\n"
     ]
    }
   ],
   "source": [
    "labelGenerator = LabelGenerator()\n",
    "idList = labelGenerator.get_idList()\n",
    "labels = labelGenerator.get_labels()\n",
    "maxVals = labelGenerator.get_maxVals()"
   ]
  },
  {
   "cell_type": "code",
   "execution_count": 40,
   "metadata": {},
   "outputs": [
    {
     "data": {
      "text/plain": [
       "('../Calgary_PS_DTI_Dataset/10001/PS14_006/b750/PS14_006_750.nii', 0, 1, 96)"
      ]
     },
     "execution_count": 40,
     "metadata": {},
     "output_type": "execute_result"
    }
   ],
   "source": [
    "idList[0]"
   ]
  },
  {
   "cell_type": "code",
   "execution_count": 41,
   "metadata": {},
   "outputs": [
    {
     "data": {
      "text/plain": [
       "0"
      ]
     },
     "execution_count": 41,
     "metadata": {},
     "output_type": "execute_result"
    }
   ],
   "source": [
    "labels[idList[0]]"
   ]
  },
  {
   "cell_type": "code",
   "execution_count": 42,
   "metadata": {},
   "outputs": [
    {
     "data": {
      "text/plain": [
       "7435.0"
      ]
     },
     "execution_count": 42,
     "metadata": {},
     "output_type": "execute_result"
    }
   ],
   "source": [
    "maxVals[idList[0][0], 0]"
   ]
  },
  {
   "cell_type": "markdown",
   "metadata": {},
   "source": [
    "## GeneratorTest.py"
   ]
  },
  {
   "cell_type": "code",
   "execution_count": null,
   "metadata": {
    "scrolled": false
   },
   "outputs": [],
   "source": [
    "import numpy as np\n",
    "import random\n",
    "import time\n",
    "from keras.models import Sequential\n",
    "from keras.utils import Sequence\n",
    "from keras.layers import Dense, Dropout, Activation, Flatten, Conv2D, MaxPooling2D, ZeroPadding2D, BatchNormalization\n",
    "# from DataGenerator import DataGenerator\n",
    "# from LabelGenerator import LabelGenerator\n",
    "from keras.optimizers import Adam\n",
    "from keras.callbacks import ModelCheckpoint\n",
    "from tensorflow.keras.callbacks import TensorBoard\n",
    "\n",
    "labelGenerator = LabelGenerator()\n",
    "idList = labelGenerator.get_idList()\n",
    "labels = labelGenerator.get_labels()\n",
    "maxVals = labelGenerator.get_maxVals()\n",
    "\n",
    "random.seed(1)\n",
    "random.shuffle(idList)\n",
    "\n",
    "train_listIDs= idList[:int(len(idList)*0.05)]\n",
    "val_listIDs = idList[int(len(idList)*0.05):]\n",
    "\n",
    "# Parameters\n",
    "params = {'labels': labels,\n",
    "          'max_brightness': maxVals,\n",
    "          'dim': (128,128),\n",
    "          'batch_size': 32,\n",
    "          'n_classes': 2,\n",
    "          'n_channels': 1,\n",
    "          'shuffle': True}\n",
    "\n",
    "# Generators\n",
    "training_generator = DataGenerator(train_listIDs, **params)\n",
    "validation_generator = DataGenerator(val_listIDs, **params)\n",
    "\n",
    "# Design model\n",
    "layer_size = 16\n",
    "NAME = '{}'.format(int(time.time()))  # model name with timestamp\n",
    "model = Sequential()\n",
    "tensorboard = TensorBoard(log_dir='logs/{}'.format(NAME))\n",
    "checkpoint = ModelCheckpoint('weights/{}.h5'.format(NAME), monitor='val_loss', verbose=0, save_best_only=True, save_weights_only=False, mode='auto', period=1)\n",
    "callbacks = [tensorboard, checkpoint]\n",
    "\n",
    "#### Architecture ####\n",
    "model.add(Conv2D(layer_size, (3,3), padding=\"same\", activation=\"relu\", input_shape=(128, 128, 1)))\n",
    "model.add(BatchNormalization())\n",
    "model.add(MaxPooling2D(pool_size=(3,3)))\n",
    "\n",
    "for _ in range(2):\n",
    "    model.add(Conv2D(layer_size, (3,3), padding=\"same\", activation=\"relu\"))\n",
    "    model.add(BatchNormalization())\n",
    "    model.add(Conv2D(layer_size, (3,3), padding=\"same\", activation=\"relu\"))\n",
    "    model.add(BatchNormalization())\n",
    "    model.add(MaxPooling2D(pool_size=(2,2)))\n",
    "    model.add(Dropout(0.35))\n",
    "    layer_size *= 2\n",
    "    \n",
    "model.add(Flatten())\n",
    "\n",
    "layer_size *= 2\n",
    "\n",
    "for _ in range(2):\n",
    "    model.add(Dense(layer_size, activation='relu'))\n",
    "    model.add(BatchNormalization())\n",
    "    model.add(Dropout(0.6))\n",
    "\n",
    "model.add(Dense(2))\n",
    "model.add(Activation('sigmoid'))\n",
    "\n",
    "model.compile(loss='categorical_crossentropy',\n",
    "             optimizer=Adam(lr=0.008),\n",
    "             metrics=['accuracy'])\n",
    "\n",
    "# Train model on dataset\n",
    "model.fit_generator(generator=training_generator,\n",
    "                    validation_data=validation_generator,\n",
    "                    use_multiprocessing=True,\n",
    "                    workers=6)"
   ]
  },
  {
   "cell_type": "code",
   "execution_count": null,
   "metadata": {},
   "outputs": [],
   "source": []
  },
  {
   "cell_type": "code",
   "execution_count": null,
   "metadata": {},
   "outputs": [],
   "source": []
  }
 ],
 "metadata": {
  "kernelspec": {
   "display_name": "Python 3",
   "language": "python",
   "name": "python3"
  },
  "language_info": {
   "codemirror_mode": {
    "name": "ipython",
    "version": 3
   },
   "file_extension": ".py",
   "mimetype": "text/x-python",
   "name": "python",
   "nbconvert_exporter": "python",
   "pygments_lexer": "ipython3",
   "version": "3.7.3"
  }
 },
 "nbformat": 4,
 "nbformat_minor": 2
}
