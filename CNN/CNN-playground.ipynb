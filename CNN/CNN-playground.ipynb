{
 "cells": [
  {
   "cell_type": "markdown",
   "metadata": {},
   "source": [
    "## DataGenerator.py"
   ]
  },
  {
   "cell_type": "code",
   "execution_count": 1,
   "metadata": {},
   "outputs": [
    {
     "name": "stderr",
     "output_type": "stream",
     "text": [
      "Using TensorFlow backend.\n"
     ]
    }
   ],
   "source": [
    "import numpy as np\n",
    "import nibabel as nib\n",
    "import keras\n",
    "import cv2\n",
    "\n",
    "class DataGenerator(keras.utils.Sequence):\n",
    "    \"\"\"Generates data for Keras to process.nii files\"\"\"\n",
    "    def __init__(self, list_IDs, labels, max_brightness, batch_size=64, dim=(128,64), n_channels=1,\n",
    "                 n_classes=10, shuffle=True):\n",
    "        \"\"\"- list_IDs should be a list of tupples, each tupples consists of (file_path, vol_num, slice_type, slice_num).\n",
    "           - labels should be a dictionary, the key is a tupple of (file_path, vol_num, slice_type, slice_num), and value\n",
    "            is the label.\n",
    "           - max_brightness should be a dictionary, the key is tuple of (file_path and vol_num), value is max voxel brightness of the volume, \n",
    "           used for normalizaing image data in the volume.\n",
    "        \"\"\"\n",
    "        \n",
    "        'Initialization'\n",
    "        self.dim = dim\n",
    "        self.batch_size = batch_size\n",
    "        self.labels = labels\n",
    "        self.list_IDs = list_IDs\n",
    "        self.max_vox_val = max_brightness\n",
    "        self.n_channels = n_channels\n",
    "        self.n_classes = n_classes\n",
    "        self.shuffle = shuffle\n",
    "        self.on_epoch_end()\n",
    "\n",
    "    def __len__(self):\n",
    "        'Denotes the number of batches per epoch'\n",
    "        return int(np.floor(len(self.list_IDs) / self.batch_size))\n",
    "\n",
    "    def __getitem__(self, index):\n",
    "        'Generate one batch of data'\n",
    "        # Generate indexes of the batch\n",
    "        indexes = self.indexes[index*self.batch_size:(index+1)*self.batch_size]\n",
    "\n",
    "        # Find list of IDs\n",
    "        list_IDs_temp = [self.list_IDs[k] for k in indexes]\n",
    "\n",
    "        # Generate data\n",
    "        X, y = self.__data_generation(list_IDs_temp)\n",
    "\n",
    "        return X, y\n",
    "\n",
    "    def on_epoch_end(self):\n",
    "        'Updates indexes after each epoch'\n",
    "        self.indexes = np.arange(len(self.list_IDs))\n",
    "        if self.shuffle == True:\n",
    "            np.random.shuffle(self.indexes)\n",
    "            \n",
    "    def __normalize(self, img, file_path, vol_num):\n",
    "        \"\"\"Normalize slices in a volume by the vox brightness value provided in self.max_vox_val\"\"\"\n",
    "        maxVal = self.max_vox_val.get((file_path,vol_num), np.amax(img))\n",
    "        return img/maxVal\n",
    "    \n",
    "    def __resize(self, img):\n",
    "        \"\"\"Ensure consistent size of each slice of data\"\"\"\n",
    "        resized = cv2.resize(img, self.dim, interpolation=cv2.INTER_NEAREST)\n",
    "        return resized\n",
    "    \n",
    "    def __load_nii_slice(self, file_path, vol_num, slice_type, slice_num):\n",
    "        \"\"\"Load a single slice from nii file\"\"\"\n",
    "        nii_file = nib.load(file_path)\n",
    "        \n",
    "        if slice_type == 0:  # Axial slice\n",
    "            img = nii_file.dataobj[:,:,slice_num,vol_num]\n",
    "        elif slice_type == 1:  # Sagittal slice\n",
    "            img = nii_file.dataobj[slice_num,:,:,vol_num]\n",
    "        elif slice_type == 2:  # Coronal slice\n",
    "            img = nii_file.dataobj[:,slice_num,:,vol_num]\n",
    "        \n",
    "        normalized = self.__normalize(img, file_path, vol_num)\n",
    "        \n",
    "        return self.__resize(normalized)\n",
    "    \n",
    "    def __get_slice_label(self, file_path, vol_num, slice_type, slice_num):\n",
    "        \"\"\"Look for slice label given file_path, volume, slice_type, and slice_num,\n",
    "        returns a default_label value if the label not found in the dictionary\"\"\"\n",
    "        default_label = 0\n",
    "        return self.labels.get((file_path, vol_num, slice_type, slice_num), default_label)\n",
    "    \n",
    "    def __data_generation(self, list_IDs_temp):\n",
    "        'Generates data containing batch_size samples' # X : (n_samples, *dim, n_channels)\n",
    "        # Initialization\n",
    "        X = np.empty((self.batch_size, *self.dim, self.n_channels))\n",
    "        y = np.empty((self.batch_size), dtype=int)\n",
    "\n",
    "#         # Generate data for standard images\n",
    "#         for i, ID in enumerate(list_IDs_temp):\n",
    "#             # Store sample\n",
    "#             X[i,] = np.load('data/' + ID + '.npy')\n",
    "#             # Store class\n",
    "#             y[i] = self.labels[ID]\n",
    "\n",
    "        # Generate data for nii slices\n",
    "        for i, ID in enumerate(list_IDs_temp):\n",
    "            file_path, vol_num, slice_type, slice_num = ID\n",
    "            X[i,] = self.__load_nii_slice(file_path, vol_num, slice_type, slice_num)\n",
    "            y[i,] = self.__get_slice_label(file_path, vol_num, slice_type, slice_num)\n",
    "\n",
    "        return X, keras.utils.to_categorical(y, num_classes=self.n_classes)"
   ]
  },
  {
   "cell_type": "markdown",
   "metadata": {},
   "source": [
    "## LabelGenerator.py"
   ]
  },
  {
   "cell_type": "code",
   "execution_count": 2,
   "metadata": {
    "scrolled": false
   },
   "outputs": [
    {
     "name": "stdout",
     "output_type": "stream",
     "text": [
      "Getting bad volumes from csv\n",
      "Generating slice ids and labels\n",
      "Getting max values from pickle file\n",
      "Done\n"
     ]
    }
   ],
   "source": [
    "import os\n",
    "import pickle\n",
    "\n",
    "folder = \"../Calgary_PS_DTI_Dataset/\"\n",
    "labelfname = \"Bad750Volumes.csv\"\n",
    "sliceStart = 96\n",
    "sliceEnd = 160\n",
    "niiFiles = list()\n",
    "sNames = dict()\n",
    "for dirpaths, dirs, files in os.walk(folder):\n",
    "    for file in files:\n",
    "        if file.endswith('.nii'):\n",
    "            filePath = os.path.join(dirpaths, file)\n",
    "            niiFiles.append(filePath)\n",
    "            sEnd = file.rfind('_')\n",
    "            if sEnd == -1:\n",
    "                sEnd = len(file)-4\n",
    "            sName = file[0:sEnd]\n",
    "            sNames[filePath] = sName\n",
    "    \n",
    "#dict of bad volumes based on scan name\n",
    "print(\"Getting bad volumes from csv\")\n",
    "badVols = dict()\n",
    "with open(labelfname) as f:\n",
    "    lines = f.readlines()\n",
    "    for i in range(1, len(lines)):\n",
    "        line = lines[i].split(',')\n",
    "        vols = line[1].strip()\n",
    "        vols = vols.split(';')\n",
    "        #subtract one for 0 indexing\n",
    "        vols = [int(vol)-1 for vol in vols if vol != '']\n",
    "        sName = line[0].upper().strip().replace('-','')\n",
    "        badVols[sName] = vols\n",
    "\n",
    "print(\"Generating slice ids and labels\")\n",
    "#ID format: (filepath, volume, direction, slice number)\n",
    "idList = list()\n",
    "labels = dict()\n",
    "for file in niiFiles:\n",
    "    sName = sNames[file]\n",
    "    for volNum in range(35):\n",
    "        label = 0\n",
    "        if sName in badVols:\n",
    "            if volNum in badVols[sName]:\n",
    "                label = 1\n",
    "        #64 slices centered around the middle assuming size 255\n",
    "        for sliceNum in range(96,160):\n",
    "            #sagittal\n",
    "            tempId = (file, volNum, 1, sliceNum)\n",
    "            idList.append(tempId)\n",
    "            labels[tempId] = label\n",
    "            #coronal\n",
    "            tempId = (file, volNum, 2, sliceNum)\n",
    "            idList.append(tempId)\n",
    "            labels[tempId] = label\n",
    "            \n",
    "print(\"Getting max values from pickle file\")\n",
    "maxVals = None\n",
    "with open (\"maxVals.pickle\", \"rb\") as f:\n",
    "    maxVals = pickle.load(f)\n",
    "for file in niiFiles:\n",
    "    for vol in range(35):\n",
    "        maxVals[file, vol] = maxVals.pop((sNames[file], vol))\n",
    "print(\"Done\")\n",
    "\n",
    "##use idList, labels, and maxVals for machine learning part"
   ]
  },
  {
   "cell_type": "code",
   "execution_count": 3,
   "metadata": {},
   "outputs": [
    {
     "data": {
      "text/plain": [
       "('../Calgary_PS_DTI_Dataset/10001/PS14_006/b750/PS14_006_750.nii', 0, 1, 96)"
      ]
     },
     "execution_count": 3,
     "metadata": {},
     "output_type": "execute_result"
    }
   ],
   "source": [
    "idList[0]"
   ]
  },
  {
   "cell_type": "code",
   "execution_count": 4,
   "metadata": {},
   "outputs": [
    {
     "data": {
      "text/plain": [
       "0"
      ]
     },
     "execution_count": 4,
     "metadata": {},
     "output_type": "execute_result"
    }
   ],
   "source": [
    "labels[idList[0]]"
   ]
  },
  {
   "cell_type": "code",
   "execution_count": 5,
   "metadata": {},
   "outputs": [
    {
     "data": {
      "text/plain": [
       "7435.0"
      ]
     },
     "execution_count": 5,
     "metadata": {},
     "output_type": "execute_result"
    }
   ],
   "source": [
    "maxVals[idList[0][0], 0]"
   ]
  },
  {
   "cell_type": "markdown",
   "metadata": {},
   "source": [
    "## GeneratorTest.py"
   ]
  },
  {
   "cell_type": "code",
   "execution_count": 15,
   "metadata": {},
   "outputs": [
    {
     "name": "stdout",
     "output_type": "stream",
     "text": [
      "WARNING:tensorflow:From /Users/oscarchen/anaconda3/lib/python3.7/site-packages/tensorflow/python/framework/op_def_library.py:263: colocate_with (from tensorflow.python.framework.ops) is deprecated and will be removed in a future version.\n",
      "Instructions for updating:\n",
      "Colocations handled automatically by placer.\n"
     ]
    },
    {
     "ename": "RuntimeError",
     "evalue": "You must compile your model before using it.",
     "output_type": "error",
     "traceback": [
      "\u001b[0;31m---------------------------------------------------------------------------\u001b[0m",
      "\u001b[0;31mRuntimeError\u001b[0m                              Traceback (most recent call last)",
      "\u001b[0;32m<ipython-input-15-b6eb7f6d28ff>\u001b[0m in \u001b[0;36m<module>\u001b[0;34m\u001b[0m\n\u001b[1;32m     39\u001b[0m                     \u001b[0mvalidation_data\u001b[0m\u001b[0;34m=\u001b[0m\u001b[0mvalidation_generator\u001b[0m\u001b[0;34m,\u001b[0m\u001b[0;34m\u001b[0m\u001b[0;34m\u001b[0m\u001b[0m\n\u001b[1;32m     40\u001b[0m                     \u001b[0muse_multiprocessing\u001b[0m\u001b[0;34m=\u001b[0m\u001b[0;32mTrue\u001b[0m\u001b[0;34m,\u001b[0m\u001b[0;34m\u001b[0m\u001b[0;34m\u001b[0m\u001b[0m\n\u001b[0;32m---> 41\u001b[0;31m                     workers=6)\n\u001b[0m",
      "\u001b[0;32m~/anaconda3/lib/python3.7/site-packages/keras/legacy/interfaces.py\u001b[0m in \u001b[0;36mwrapper\u001b[0;34m(*args, **kwargs)\u001b[0m\n\u001b[1;32m     89\u001b[0m                 warnings.warn('Update your `' + object_name + '` call to the ' +\n\u001b[1;32m     90\u001b[0m                               'Keras 2 API: ' + signature, stacklevel=2)\n\u001b[0;32m---> 91\u001b[0;31m             \u001b[0;32mreturn\u001b[0m \u001b[0mfunc\u001b[0m\u001b[0;34m(\u001b[0m\u001b[0;34m*\u001b[0m\u001b[0margs\u001b[0m\u001b[0;34m,\u001b[0m \u001b[0;34m**\u001b[0m\u001b[0mkwargs\u001b[0m\u001b[0;34m)\u001b[0m\u001b[0;34m\u001b[0m\u001b[0;34m\u001b[0m\u001b[0m\n\u001b[0m\u001b[1;32m     92\u001b[0m         \u001b[0mwrapper\u001b[0m\u001b[0;34m.\u001b[0m\u001b[0m_original_function\u001b[0m \u001b[0;34m=\u001b[0m \u001b[0mfunc\u001b[0m\u001b[0;34m\u001b[0m\u001b[0;34m\u001b[0m\u001b[0m\n\u001b[1;32m     93\u001b[0m         \u001b[0;32mreturn\u001b[0m \u001b[0mwrapper\u001b[0m\u001b[0;34m\u001b[0m\u001b[0;34m\u001b[0m\u001b[0m\n",
      "\u001b[0;32m~/anaconda3/lib/python3.7/site-packages/keras/engine/training.py\u001b[0m in \u001b[0;36mfit_generator\u001b[0;34m(self, generator, steps_per_epoch, epochs, verbose, callbacks, validation_data, validation_steps, class_weight, max_queue_size, workers, use_multiprocessing, shuffle, initial_epoch)\u001b[0m\n\u001b[1;32m   1416\u001b[0m             \u001b[0muse_multiprocessing\u001b[0m\u001b[0;34m=\u001b[0m\u001b[0muse_multiprocessing\u001b[0m\u001b[0;34m,\u001b[0m\u001b[0;34m\u001b[0m\u001b[0;34m\u001b[0m\u001b[0m\n\u001b[1;32m   1417\u001b[0m             \u001b[0mshuffle\u001b[0m\u001b[0;34m=\u001b[0m\u001b[0mshuffle\u001b[0m\u001b[0;34m,\u001b[0m\u001b[0;34m\u001b[0m\u001b[0;34m\u001b[0m\u001b[0m\n\u001b[0;32m-> 1418\u001b[0;31m             initial_epoch=initial_epoch)\n\u001b[0m\u001b[1;32m   1419\u001b[0m \u001b[0;34m\u001b[0m\u001b[0m\n\u001b[1;32m   1420\u001b[0m     \u001b[0;34m@\u001b[0m\u001b[0minterfaces\u001b[0m\u001b[0;34m.\u001b[0m\u001b[0mlegacy_generator_methods_support\u001b[0m\u001b[0;34m\u001b[0m\u001b[0;34m\u001b[0m\u001b[0m\n",
      "\u001b[0;32m~/anaconda3/lib/python3.7/site-packages/keras/engine/training_generator.py\u001b[0m in \u001b[0;36mfit_generator\u001b[0;34m(model, generator, steps_per_epoch, epochs, verbose, callbacks, validation_data, validation_steps, class_weight, max_queue_size, workers, use_multiprocessing, shuffle, initial_epoch)\u001b[0m\n\u001b[1;32m     38\u001b[0m \u001b[0;34m\u001b[0m\u001b[0m\n\u001b[1;32m     39\u001b[0m     \u001b[0mdo_validation\u001b[0m \u001b[0;34m=\u001b[0m \u001b[0mbool\u001b[0m\u001b[0;34m(\u001b[0m\u001b[0mvalidation_data\u001b[0m\u001b[0;34m)\u001b[0m\u001b[0;34m\u001b[0m\u001b[0;34m\u001b[0m\u001b[0m\n\u001b[0;32m---> 40\u001b[0;31m     \u001b[0mmodel\u001b[0m\u001b[0;34m.\u001b[0m\u001b[0m_make_train_function\u001b[0m\u001b[0;34m(\u001b[0m\u001b[0;34m)\u001b[0m\u001b[0;34m\u001b[0m\u001b[0;34m\u001b[0m\u001b[0m\n\u001b[0m\u001b[1;32m     41\u001b[0m     \u001b[0;32mif\u001b[0m \u001b[0mdo_validation\u001b[0m\u001b[0;34m:\u001b[0m\u001b[0;34m\u001b[0m\u001b[0;34m\u001b[0m\u001b[0m\n\u001b[1;32m     42\u001b[0m         \u001b[0mmodel\u001b[0m\u001b[0;34m.\u001b[0m\u001b[0m_make_test_function\u001b[0m\u001b[0;34m(\u001b[0m\u001b[0;34m)\u001b[0m\u001b[0;34m\u001b[0m\u001b[0;34m\u001b[0m\u001b[0m\n",
      "\u001b[0;32m~/anaconda3/lib/python3.7/site-packages/keras/engine/training.py\u001b[0m in \u001b[0;36m_make_train_function\u001b[0;34m(self)\u001b[0m\n\u001b[1;32m    494\u001b[0m     \u001b[0;32mdef\u001b[0m \u001b[0m_make_train_function\u001b[0m\u001b[0;34m(\u001b[0m\u001b[0mself\u001b[0m\u001b[0;34m)\u001b[0m\u001b[0;34m:\u001b[0m\u001b[0;34m\u001b[0m\u001b[0;34m\u001b[0m\u001b[0m\n\u001b[1;32m    495\u001b[0m         \u001b[0;32mif\u001b[0m \u001b[0;32mnot\u001b[0m \u001b[0mhasattr\u001b[0m\u001b[0;34m(\u001b[0m\u001b[0mself\u001b[0m\u001b[0;34m,\u001b[0m \u001b[0;34m'train_function'\u001b[0m\u001b[0;34m)\u001b[0m\u001b[0;34m:\u001b[0m\u001b[0;34m\u001b[0m\u001b[0;34m\u001b[0m\u001b[0m\n\u001b[0;32m--> 496\u001b[0;31m             \u001b[0;32mraise\u001b[0m \u001b[0mRuntimeError\u001b[0m\u001b[0;34m(\u001b[0m\u001b[0;34m'You must compile your model before using it.'\u001b[0m\u001b[0;34m)\u001b[0m\u001b[0;34m\u001b[0m\u001b[0;34m\u001b[0m\u001b[0m\n\u001b[0m\u001b[1;32m    497\u001b[0m         \u001b[0mself\u001b[0m\u001b[0;34m.\u001b[0m\u001b[0m_check_trainable_weights_consistency\u001b[0m\u001b[0;34m(\u001b[0m\u001b[0;34m)\u001b[0m\u001b[0;34m\u001b[0m\u001b[0;34m\u001b[0m\u001b[0m\n\u001b[1;32m    498\u001b[0m         \u001b[0;32mif\u001b[0m \u001b[0mself\u001b[0m\u001b[0;34m.\u001b[0m\u001b[0mtrain_function\u001b[0m \u001b[0;32mis\u001b[0m \u001b[0;32mNone\u001b[0m\u001b[0;34m:\u001b[0m\u001b[0;34m\u001b[0m\u001b[0;34m\u001b[0m\u001b[0m\n",
      "\u001b[0;31mRuntimeError\u001b[0m: You must compile your model before using it."
     ]
    }
   ],
   "source": [
    "import numpy as np\n",
    "import random\n",
    "from keras.models import Sequential\n",
    "from DataGenerator import DataGenerator\n",
    "from keras.optimizers import Adam\n",
    "\n",
    "random.seed(1)\n",
    "random.shuffle(idList)\n",
    "\n",
    "train_listIDs= idList[:int(len(idList)*0.05)]\n",
    "val_listIDs = idList[int(len(idList)*0.05):]\n",
    "\n",
    "# Parameters\n",
    "params = {'labels': labels,\n",
    "          'max_brightness': maxVals,\n",
    "          'dim': (128,64),\n",
    "          'batch_size': 128,\n",
    "          'n_classes': 2,\n",
    "          'n_channels': 1,\n",
    "          'shuffle': True}\n",
    "\n",
    "# Generators\n",
    "training_generator = DataGenerator(train_listIDs, **params)\n",
    "validation_generator = DataGenerator(val_listIDs, **params)\n",
    "\n",
    "# Design model\n",
    "model = Sequential()\n",
    "\n",
    "\n",
    "# Architecture here\n",
    "\n",
    "\n",
    "\n",
    "model.compile(loss='categorical_crossentropy',\n",
    "             optimizer=Adam(lr=0.008),\n",
    "             metrics=['accuracy'])\n",
    "\n",
    "# Train model on dataset\n",
    "model.fit_generator(generator=training_generator,\n",
    "                    validation_data=validation_generator,\n",
    "                    use_multiprocessing=True,\n",
    "                    workers=6)"
   ]
  },
  {
   "cell_type": "code",
   "execution_count": null,
   "metadata": {},
   "outputs": [],
   "source": []
  },
  {
   "cell_type": "code",
   "execution_count": null,
   "metadata": {},
   "outputs": [],
   "source": []
  }
 ],
 "metadata": {
  "kernelspec": {
   "display_name": "Python 3",
   "language": "python",
   "name": "python3"
  },
  "language_info": {
   "codemirror_mode": {
    "name": "ipython",
    "version": 3
   },
   "file_extension": ".py",
   "mimetype": "text/x-python",
   "name": "python",
   "nbconvert_exporter": "python",
   "pygments_lexer": "ipython3",
   "version": "3.7.3"
  }
 },
 "nbformat": 4,
 "nbformat_minor": 2
}
